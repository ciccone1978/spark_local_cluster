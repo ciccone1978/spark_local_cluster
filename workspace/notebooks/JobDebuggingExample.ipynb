{
 "cells": [
  {
   "cell_type": "code",
   "execution_count": 1,
   "id": "b918b0a0-9591-48e5-a446-f26c4cad4173",
   "metadata": {},
   "outputs": [],
   "source": [
    "from pyspark.sql import SparkSession\n",
    "from pyspark.sql.functions import col"
   ]
  },
  {
   "cell_type": "code",
   "execution_count": 2,
   "id": "c876f19b-762b-440e-b1ee-5cdbd9a4564a",
   "metadata": {},
   "outputs": [
    {
     "name": "stderr",
     "output_type": "stream",
     "text": [
      "Setting default log level to \"WARN\".\n",
      "To adjust logging level use sc.setLogLevel(newLevel). For SparkR, use setLogLevel(newLevel).\n",
      "25/06/23 10:43:35 WARN NativeCodeLoader: Unable to load native-hadoop library for your platform... using builtin-java classes where applicable\n"
     ]
    }
   ],
   "source": [
    "spark = (\n",
    "    SparkSession.builder\n",
    "    .appName(\"Job-Debugging-Example\")\n",
    "    .master(\"spark://spark-master:7077\")\n",
    "    .config(\"spark.driver.host\", \"jupyterlab\")\n",
    "    .config(\"spark.ui.port\", \"4040\")\n",
    "    .config(\"spark.driver.memory\", \"2g\")\n",
    "    .config(\"spark.executor.cores\", \"1\")\n",
    "    .config(\"spark.executor.memory\", \"4g\")\n",
    "    .getOrCreate()\n",
    ")"
   ]
  },
  {
   "cell_type": "code",
   "execution_count": 3,
   "id": "db80971e-3f5f-42f1-ab01-de7b0ca0dbfe",
   "metadata": {},
   "outputs": [],
   "source": [
    "data = [(\"James\", \"Sales\", 3000), (\"Michael\", \"Sales\", 4600),\n",
    "        (\"Robert\", \"Sales\", 4100), (\"Maria\", \"Finance\", 3000),\n",
    "        (\"James\", \"Sales\", 3000), (\"Scott\", \"Finance\", 3300),\n",
    "        (\"Jen\", \"Finance\", 3900), (\"Jeff\", \"Marketing\", 3000),\n",
    "        (\"Kumar\", \"Marketing\", 2000), (\"Saif\", \"Sales\", 4100)]\n",
    "columns = [\"employee_name\", \"department\", \"salary\"]\n",
    "df = spark.createDataFrame(data, columns)"
   ]
  },
  {
   "cell_type": "code",
   "execution_count": 4,
   "id": "a58eb8a9-fac5-4d16-9bbd-a218263e8c67",
   "metadata": {},
   "outputs": [],
   "source": [
    "high_earners = df.filter(col(\"salary\") > 3500)"
   ]
  },
  {
   "cell_type": "code",
   "execution_count": 5,
   "id": "35d8e9e8-f55f-4445-b4ee-44e7455aed6c",
   "metadata": {},
   "outputs": [],
   "source": [
    "spark.sparkContext.setJobDescription(\"Displaying high earners (salary > 3500)\")"
   ]
  },
  {
   "cell_type": "code",
   "execution_count": 6,
   "id": "d150b1fa-318a-4207-a39e-5bb693b54d79",
   "metadata": {},
   "outputs": [
    {
     "name": "stderr",
     "output_type": "stream",
     "text": [
      "                                                                                \r"
     ]
    },
    {
     "name": "stdout",
     "output_type": "stream",
     "text": [
      "+-------------+----------+------+\n",
      "|employee_name|department|salary|\n",
      "+-------------+----------+------+\n",
      "|      Michael|     Sales|  4600|\n",
      "|       Robert|     Sales|  4100|\n",
      "|          Jen|   Finance|  3900|\n",
      "|         Saif|     Sales|  4100|\n",
      "+-------------+----------+------+\n",
      "\n"
     ]
    }
   ],
   "source": [
    "high_earners.show()"
   ]
  },
  {
   "cell_type": "code",
   "execution_count": 7,
   "id": "10b4873a-1db9-4b69-bfe6-13f941a2cf19",
   "metadata": {},
   "outputs": [
    {
     "name": "stderr",
     "output_type": "stream",
     "text": [
      "[Stage 2:=============================>                             (1 + 1) / 2]\r"
     ]
    },
    {
     "name": "stdout",
     "output_type": "stream",
     "text": [
      "+----------+-----+\n",
      "|department|count|\n",
      "+----------+-----+\n",
      "|     Sales|    5|\n",
      "|   Finance|    3|\n",
      "| Marketing|    2|\n",
      "+----------+-----+\n",
      "\n"
     ]
    },
    {
     "name": "stderr",
     "output_type": "stream",
     "text": [
      "                                                                                \r"
     ]
    }
   ],
   "source": [
    "department_counts = df.groupBy(\"department\").count()\n",
    "spark.sparkContext.setJobDescription(\"Calculating and showing department counts\")\n",
    "department_counts.show()"
   ]
  },
  {
   "cell_type": "code",
   "execution_count": 12,
   "id": "1946ba74-cc90-43b8-a378-36a315573258",
   "metadata": {},
   "outputs": [],
   "source": [
    "spark.stop()"
   ]
  },
  {
   "cell_type": "code",
   "execution_count": null,
   "id": "e06f7382-1142-4307-aecf-a33f44930e9a",
   "metadata": {},
   "outputs": [],
   "source": []
  }
 ],
 "metadata": {
  "kernelspec": {
   "display_name": "Python 3",
   "language": "python",
   "name": "python3"
  },
  "language_info": {
   "codemirror_mode": {
    "name": "ipython",
    "version": 3
   },
   "file_extension": ".py",
   "mimetype": "text/x-python",
   "name": "python",
   "nbconvert_exporter": "python",
   "pygments_lexer": "ipython3",
   "version": "3.12.10"
  }
 },
 "nbformat": 4,
 "nbformat_minor": 5
}
